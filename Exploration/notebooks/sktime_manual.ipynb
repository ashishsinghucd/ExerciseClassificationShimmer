{
 "cells": [
  {
   "cell_type": "code",
   "execution_count": 1,
   "id": "106ca6b6-6970-48a7-8c66-f5c1ebbec8aa",
   "metadata": {},
   "outputs": [],
   "source": [
    "import numpy as np\n",
    "import logging\n",
    "import math\n",
    "import pandas as pd\n",
    "logging.basicConfig(level=logging.INFO)\n",
    "logger = logging.getLogger(__name__)"
   ]
  },
  {
   "cell_type": "code",
   "execution_count": 6,
   "id": "c289e803-3c53-4698-9f55-0d0d1eb6d5f1",
   "metadata": {},
   "outputs": [],
   "source": [
    "import os\n",
    "import sys"
   ]
  },
  {
   "cell_type": "code",
   "execution_count": 11,
   "id": "e8c68736-8ba9-462d-9838-f46aedded0df",
   "metadata": {},
   "outputs": [],
   "source": [
    "from sktime.transformations.panel.rocket import Rocket, MultiRocketMultivariate\n",
    "from sklearn.linear_model import RidgeClassifierCV\n",
    "from sktime.datasets import load_from_tsfile_to_dataframe\n",
    "from sktime.transformations.panel import catch22"
   ]
  },
  {
   "cell_type": "code",
   "execution_count": 8,
   "id": "922e6242-4845-482c-8c58-d4ab3ce065c3",
   "metadata": {},
   "outputs": [],
   "source": [
    "FILE_NAME_X = '{}_{}_X'\n",
    "FILE_NAME_Y = '{}_{}_Y'\n",
    "FILE_NAME_PID = '{}_{}_pid'"
   ]
  },
  {
   "cell_type": "code",
   "execution_count": 9,
   "id": "e120ccb4-1ca9-416c-8332-e9084dd89bfd",
   "metadata": {},
   "outputs": [],
   "source": [
    "def read_dataset(path, data_type):\n",
    "    x_train, y_train = load_from_tsfile_to_dataframe(os.path.join(path,\n",
    "                                                                  FILE_NAME_X.format(\"TRAIN\", data_type) + \".ts\"))\n",
    "\n",
    "    logger.info(\"Training data shape {} {} {}\".format(x_train.shape, len(x_train.iloc[0, 0]), y_train.shape))\n",
    "    x_test, y_test = load_from_tsfile_to_dataframe(os.path.join(path,\n",
    "                                                                FILE_NAME_X.format(\"TEST\", data_type) + \".ts\"))\n",
    "    logger.info(\"Testing data shape: {} {}\".format(x_test.shape, y_test.shape))\n",
    "\n",
    "    logger.info(\"Testing data shape: {} {}\".format(x_test.shape, y_test.shape))\n",
    "    test_pid = np.load(os.path.join(path, FILE_NAME_PID.format(\"TEST\", data_type) + \".npy\"), allow_pickle=True)\n",
    "    train_pid = np.load(os.path.join(path, FILE_NAME_PID.format(\"TRAIN\", data_type) + \".npy\"), allow_pickle=True)\n",
    "\n",
    "    try:\n",
    "        x_val, y_val = load_from_tsfile_to_dataframe(os.path.join(path,\n",
    "                                                                  FILE_NAME_X.format(\"VAL\", data_type) + \".ts\"))\n",
    "        logger.info(\"Validation data shape: {} {}\".format(x_val.shape, y_val.shape))\n",
    "    except FileNotFoundError:\n",
    "        logger.info(\"Validation data is empty:\")\n",
    "        x_val, y_val = None, None\n",
    "\n",
    "    return x_train, y_train, x_test, y_test, x_val, y_val, train_pid, test_pid"
   ]
  },
  {
   "cell_type": "code",
   "execution_count": null,
   "id": "004c2ac2-0f78-431e-9360-1607a1ac726f",
   "metadata": {},
   "outputs": [],
   "source": [
    "data_type = \"default\"\n",
    "path = \"/home/ashish/Results/Datasets/HPE3/MP/TrainTestDataSktime/{}/MulticlassSplit/\"\n",
    "output_path = \"/home/ashish/Results/Datasets/HPE3/MP/Catch22/{}/\"\n",
    "for sv in [103007,1899797,191099]:\n",
    "    print(path)\n",
    "    x_train, y_train, x_test, y_test, x_val, y_val, train_pid, test_pid = read_dataset(path.format(sv), data_type)\n",
    "    catch = catch22.Catch22()\n",
    "    catch.fit(x_train)\n",
    "    x_training_transform = catch.transform(x_train)\n",
    "\n",
    "    te = time.time()\n",
    "    total_time = (te - ts)\n",
    "\n",
    "    print(\"Training transform took {} \".format(total_time))\n",
    "\n",
    "    ts = time.time()        \n",
    "    x_test_transform = catch.transform(x_test)\n",
    "    te = time.time()\n",
    "    total_time = (te - ts)\n",
    "    print(\"Testing transform took {} \".format(total_time))\n",
    "    x_training_transform.to_csv(os.path.join(output_path.format(sv), \"x_train_{}.csv\".format(data_type)), index=False)\n",
    "    x_test_transform.to_csv(os.path.join(output_path.format(sv), \"x_test_{}.csv\".format(data_type)), index=False)\n",
    "    \n",
    "    np.save(os.path.join(output_path.format(sv), \"y_test_{}.npy\".format(data_type)), y_test)\n",
    "    np.save(os.path.join(output_path.format(sv), \"y_train_{}.npy\".format(data_type)), y_train)"
   ]
  },
  {
   "cell_type": "code",
   "execution_count": null,
   "id": "6f6f287c-2662-438b-956d-02f26f4f0282",
   "metadata": {},
   "outputs": [],
   "source": [
    "\n",
    "data_type = \"default\"\n",
    "path = \"/home/ashish/Results/Datasets/Shimmer/MP/TrainTestData/{}/MulticlassSplit/\"\n",
    "output_path = \"/home/ashish/Results/Datasets/Shimmer/MP/tsfresh/{}/\"\n",
    "\n",
    "for sv in [103007,1899797,191099]:\n",
    "    x_train, y_train, x_test, y_test = read_dataset(path.format(sv), data_type)\n",
    "    train_shape = x_train.shape[0]\n",
    "    test_shape = x_test.shape[0]\n",
    "    \n",
    "    full_data = np.vstack((x_train, x_test))\n",
    "    y = np.concatenate((y_train, y_test))\n",
    "    full_data_long = pd.DataFrame(full_data.reshape(full_data.shape[0]*full_data.shape[1], full_data.shape[2]))\n",
    "        \n",
    "    full_data_long[\"id\"] = get_id_col(full_data)\n",
    "    \n",
    "    y = pd.Series(y)\n",
    "    y.index = np.arange(1, y.shape[0]+1)\n",
    "\n",
    "    \n",
    "    full_data_transform = extract_relevant_features(full_data_long, y, column_id='id')\n",
    "    \n",
    "    x_training_transform = full_data_transform.iloc[0:train_shape, :]\n",
    "    x_test_transform = full_data_transform.iloc[train_shape:, :]\n",
    "\n",
    "    x_training_transform.to_csv(os.path.join(output_path.format(sv), \"x_train_{}.csv\".format(data_type)), index=False)\n",
    "    x_test_transform.to_csv(os.path.join(output_path.format(sv), \"x_test_{}.csv\".format(data_type)), index=False)\n",
    "    y_train.to_csv(os.path.join(output_path.format(sv), \"y_train_{}.csv\".format(data_type)), index=False)\n",
    "    y_test.to_csv(os.path.join(output_path.format(sv), \"y_test_{}.csv\".format(data_type)), index=False)\n",
    "    \n",
    "np.save(os.path.join(output_path.format(sv), \"y_test_{}.npy\".format(data_type)), y_test)\n",
    "np.save(os.path.join(output_path.format(sv), \"y_train_{}.npy\".format(data_type)), y_train)"
   ]
  }
 ],
 "metadata": {
  "kernelspec": {
   "display_name": "Python 3 (ipykernel)",
   "language": "python",
   "name": "python3"
  },
  "language_info": {
   "codemirror_mode": {
    "name": "ipython",
    "version": 3
   },
   "file_extension": ".py",
   "mimetype": "text/x-python",
   "name": "python",
   "nbconvert_exporter": "python",
   "pygments_lexer": "ipython3",
   "version": "3.7.10"
  }
 },
 "nbformat": 4,
 "nbformat_minor": 5
}
